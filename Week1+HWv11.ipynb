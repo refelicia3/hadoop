{
 "cells": [
  {
   "cell_type": "code",
   "execution_count": 4,
   "metadata": {},
   "outputs": [
    {
     "name": "stdout",
     "output_type": "stream",
     "text": [
      "Demo.ipynb  README.md  supervisord.log\tsupervisord.pid  Untitled.ipynb\r\n"
     ]
    }
   ],
   "source": [
    "!ls "
   ]
  },
  {
   "cell_type": "code",
   "execution_count": 5,
   "metadata": {},
   "outputs": [
    {
     "name": "stdout",
     "output_type": "stream",
     "text": [
      "/home/jovyan\r\n"
     ]
    }
   ],
   "source": [
    "!pwd "
   ]
  },
  {
   "cell_type": "code",
   "execution_count": 6,
   "metadata": {},
   "outputs": [
    {
     "name": "stdout",
     "output_type": "stream",
     "text": [
      "Connecting to namenode via http://localhost:50070/fsck?ugi=jovyan&files=1&blocks=1&locations=1&path=%2Fdata%2Fwiki%2Fen_articles_part%2Farticles-part\n",
      "FSCK started by jovyan (auth:SIMPLE) from /127.0.0.1 for path /data/wiki/en_articles_part/articles-part at Fri Sep 25 20:26:49 UTC 2020\n",
      "/data/wiki/en_articles_part/articles-part 76861985 bytes, 1 block(s):  OK\n",
      "0. BP-912138591-172.17.0.1-1508245861251:blk_1073741825_1001 len=76861985 Live_repl=1 [DatanodeInfoWithStorage[127.0.0.1:50010,DS-abfda850-d766-4f78-a27c-3744043afccc,DISK]]\n",
      "\n",
      "Status: HEALTHY\n",
      " Total size:\t76861985 B\n",
      " Total dirs:\t0\n",
      " Total files:\t1\n",
      " Total symlinks:\t\t0\n",
      " Total blocks (validated):\t1 (avg. block size 76861985 B)\n",
      " Minimally replicated blocks:\t1 (100.0 %)\n",
      " Over-replicated blocks:\t0 (0.0 %)\n",
      " Under-replicated blocks:\t0 (0.0 %)\n",
      " Mis-replicated blocks:\t\t0 (0.0 %)\n",
      " Default replication factor:\t1\n",
      " Average block replication:\t1.0\n",
      " Corrupt blocks:\t\t0\n",
      " Missing replicas:\t\t0 (0.0 %)\n",
      " Number of data-nodes:\t\t1\n",
      " Number of racks:\t\t1\n",
      "FSCK ended at Fri Sep 25 20:26:49 UTC 2020 in 36 milliseconds\n",
      "\n",
      "\n",
      "The filesystem under path '/data/wiki/en_articles_part/articles-part' is HEALTHY\n"
     ]
    }
   ],
   "source": [
    "!hdfs fsck /data/wiki/en_articles_part/articles-part -files -blocks -locations "
   ]
  },
  {
   "cell_type": "code",
   "execution_count": 7,
   "metadata": {},
   "outputs": [
    {
     "name": "stdout",
     "output_type": "stream",
     "text": [
      "Connecting to namenode via http://localhost:50070/fsck?ugi=jovyan&blockId=blk_1073741825+&path=%2Fdata%2Fwiki%2Fen_articles_part%2Farticles-part\n",
      "FSCK started by jovyan (auth:SIMPLE) from /127.0.0.1 at Fri Sep 25 20:32:59 UTC 2020\n",
      "\n",
      "Block Id: blk_1073741825\n",
      "Block belongs to: /data/wiki/en_articles_part/articles-part\n",
      "No. of Expected Replica: 1\n",
      "No. of live Replica: 1\n",
      "No. of excess Replica: 0\n",
      "No. of stale Replica: 0\n",
      "No. of decommissioned Replica: 0\n",
      "No. of decommissioning Replica: 0\n",
      "No. of corrupted Replica: 0\n",
      "Block replica on datanode/rack: 3f79187ce3e0/default-rack is HEALTHY\n"
     ]
    }
   ],
   "source": [
    "!hdfs fsck /data/wiki/en_articles_part/articles-part -blockId blk_1073741825 "
   ]
  },
  {
   "cell_type": "code",
   "execution_count": 8,
   "metadata": {},
   "outputs": [],
   "source": [
    "!hdfs dfs -mkdir wk1 \n"
   ]
  },
  {
   "cell_type": "code",
   "execution_count": 11,
   "metadata": {},
   "outputs": [],
   "source": [
    "!hdfs dfs -touchz wk1/test.txt "
   ]
  },
  {
   "cell_type": "code",
   "execution_count": 12,
   "metadata": {},
   "outputs": [
    {
     "name": "stdout",
     "output_type": "stream",
     "text": [
      "-rw-r--r--   1 jovyan supergroup          0 2020-09-25 21:58 wk1/test.txt\r\n"
     ]
    }
   ],
   "source": [
    "!hdfs dfs -ls wk1/test.txt "
   ]
  },
  {
   "cell_type": "code",
   "execution_count": 13,
   "metadata": {},
   "outputs": [
    {
     "name": "stdout",
     "output_type": "stream",
     "text": [
      "chmod: `/wk1/test.txt': No such file or directory\r\n"
     ]
    }
   ],
   "source": [
    "!hdfs dfs -chmod 640 /wk1/test.txt "
   ]
  },
  {
   "cell_type": "code",
   "execution_count": 14,
   "metadata": {},
   "outputs": [],
   "source": [
    "!hdfs dfs -chmod o-r wk1/test.txt "
   ]
  },
  {
   "cell_type": "code",
   "execution_count": 15,
   "metadata": {},
   "outputs": [],
   "source": [
    "!hdfs dfs -cat wk1/test.txt | head -10 "
   ]
  },
  {
   "cell_type": "code",
   "execution_count": 16,
   "metadata": {},
   "outputs": [],
   "source": [
    "!hdfs dfs -mv wk1/test.txt wk1/test2.txt "
   ]
  },
  {
   "cell_type": "code",
   "execution_count": 18,
   "metadata": {},
   "outputs": [
    {
     "name": "stdout",
     "output_type": "stream",
     "text": [
      "-rw-r-----   1 jovyan supergroup          0 2020-09-25 21:58 wk1/test2.txt\r\n"
     ]
    }
   ],
   "source": [
    "!hdfs dfs -ls wk1/test2.txt \n"
   ]
  },
  {
   "cell_type": "code",
   "execution_count": null,
   "metadata": {},
   "outputs": [],
   "source": []
  }
 ],
 "metadata": {
  "kernelspec": {
   "display_name": "Python 2",
   "language": "python",
   "name": "python2"
  },
  "language_info": {
   "codemirror_mode": {
    "name": "ipython",
    "version": 2
   },
   "file_extension": ".py",
   "mimetype": "text/x-python",
   "name": "python",
   "nbconvert_exporter": "python",
   "pygments_lexer": "ipython2",
   "version": "2.7.12"
  }
 },
 "nbformat": 4,
 "nbformat_minor": 2
}
